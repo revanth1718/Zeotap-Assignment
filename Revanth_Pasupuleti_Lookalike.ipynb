{
  "nbformat": 4,
  "nbformat_minor": 0,
  "metadata": {
    "colab": {
      "provenance": []
    },
    "kernelspec": {
      "name": "python3",
      "display_name": "Python 3"
    },
    "language_info": {
      "name": "python"
    }
  },
  "cells": [
    {
      "cell_type": "markdown",
      "source": [
        "**Import Dependencies**"
      ],
      "metadata": {
        "id": "umY_povZ6ksv"
      }
    },
    {
      "cell_type": "code",
      "execution_count": null,
      "metadata": {
        "id": "EX77i7Zj1WAF"
      },
      "outputs": [],
      "source": [
        "import pandas as pd\n",
        "import numpy as np\n",
        "from sklearn.preprocessing import StandardScaler\n",
        "from sklearn.metrics.pairwise import cosine_similarity\n",
        "import matplotlib.pyplot as plt\n",
        "import seaborn as sns"
      ]
    },
    {
      "cell_type": "markdown",
      "source": [
        "**Load and Preprocess Data**"
      ],
      "metadata": {
        "id": "U3r7ofx96sIS"
      }
    },
    {
      "cell_type": "code",
      "source": [
        "\n",
        "customers = pd.read_csv('Customers.csv')\n",
        "products = pd.read_csv('Products.csv')\n",
        "transactions = pd.read_csv('Transactions.csv')\n",
        "\n",
        "customers['SignupDate'] = pd.to_datetime(customers['SignupDate'])\n",
        "transactions['TransactionDate'] = pd.to_datetime(transactions['TransactionDate'])\n",
        "\n",
        "print(\"Data loaded successfully!\")\n",
        "print(f\"Number of customers: {len(customers)}\")\n",
        "print(f\"Number of products: {len(products)}\")\n",
        "print(f\"Number of transactions: {len(transactions)}\")"
      ],
      "metadata": {
        "colab": {
          "base_uri": "https://localhost:8080/"
        },
        "id": "bn3REnmP5PE1",
        "outputId": "19d82ef6-b9a0-4be7-f3bf-ef837407f3fa"
      },
      "execution_count": null,
      "outputs": [
        {
          "output_type": "stream",
          "name": "stdout",
          "text": [
            "Data loaded successfully!\n",
            "Number of customers: 200\n",
            "Number of products: 100\n",
            "Number of transactions: 1000\n"
          ]
        }
      ]
    },
    {
      "cell_type": "markdown",
      "source": [
        "**Feature Engineering**"
      ],
      "metadata": {
        "id": "k5N6SXl_6ylS"
      }
    },
    {
      "cell_type": "code",
      "source": [
        "def create_customer_features(customers, transactions):\n",
        "    \"\"\"customer features for modeling\"\"\"\n",
        "\n",
        "    transaction_features = transactions.groupby('CustomerID').agg({\n",
        "        'TransactionID': 'count',\n",
        "        'Quantity': ['sum', 'mean', 'std'],\n",
        "        'TotalValue': ['sum', 'mean', 'std']\n",
        "    }).reset_index()\n",
        "\n",
        "    transaction_features.columns = [\n",
        "        'CustomerID', 'transaction_count',\n",
        "        'total_quantity', 'avg_quantity', 'std_quantity',\n",
        "        'total_value', 'avg_value', 'std_value'\n",
        "    ]\n",
        "\n",
        "    latest_transaction = transactions.groupby('CustomerID')['TransactionDate'].max()\n",
        "    overall_latest = latest_transaction.max()\n",
        "    recency = (overall_latest - latest_transaction).dt.days\n",
        "    transaction_features['recency'] = recency\n",
        "\n",
        "    transaction_dates = transactions.groupby('CustomerID')['TransactionDate'].agg(list)\n",
        "    def calc_avg_time_between(dates):\n",
        "        if len(dates) < 2:\n",
        "            return 0\n",
        "        dates = sorted(dates)\n",
        "        return np.mean([(dates[i+1] - dates[i]).days for i in range(len(dates)-1)])\n",
        "\n",
        "    transaction_features['avg_time_between'] = transaction_dates.apply(calc_avg_time_between)\n",
        "\n",
        "    customer_features = customers.merge(transaction_features, on='CustomerID', how='left')\n",
        "\n",
        "    customer_features = customer_features.fillna(0)\n",
        "\n",
        "    return customer_features\n",
        "\n",
        "customer_features = create_customer_features(customers, transactions)\n",
        "\n",
        "print(\"Feature Summary:\")\n",
        "print(customer_features.describe())"
      ],
      "metadata": {
        "colab": {
          "base_uri": "https://localhost:8080/"
        },
        "id": "7FrzX-645a2r",
        "outputId": "8e04c60f-0810-43bc-cad4-9f928383f8dc"
      },
      "execution_count": null,
      "outputs": [
        {
          "output_type": "stream",
          "name": "stdout",
          "text": [
            "Feature Summary:\n",
            "                SignupDate  transaction_count  total_quantity  avg_quantity  \\\n",
            "count                  200         200.000000      200.000000    200.000000   \n",
            "mean   2023-07-19 08:31:12           5.000000       12.685000      2.518142   \n",
            "min    2022-01-22 00:00:00           0.000000        0.000000      0.000000   \n",
            "25%    2022-09-26 12:00:00           3.000000        8.000000      2.191667   \n",
            "50%    2023-08-31 12:00:00           5.000000       12.000000      2.500000   \n",
            "75%    2024-04-12 12:00:00           6.000000       17.000000      3.000000   \n",
            "max    2024-12-28 00:00:00          11.000000       32.000000      4.000000   \n",
            "std                    NaN           2.221412        6.201457      0.588127   \n",
            "\n",
            "       std_quantity   total_value    avg_value    std_value  recency  \\\n",
            "count    200.000000    200.000000   200.000000   200.000000    200.0   \n",
            "mean       0.998592   3449.977800   684.142281   438.331177      0.0   \n",
            "min        0.000000      0.000000     0.000000     0.000000      0.0   \n",
            "25%        0.816497   2137.540000   539.230833   326.898676      0.0   \n",
            "50%        1.069045   3137.420000   677.189750   458.304787      0.0   \n",
            "75%        1.266788   4764.412500   825.982083   574.594464      0.0   \n",
            "max        2.121320  10673.870000  1323.133333  1140.605664      0.0   \n",
            "std        0.427574   1844.435391   242.266774   204.994447      0.0   \n",
            "\n",
            "       avg_time_between  \n",
            "count             200.0  \n",
            "mean                0.0  \n",
            "min                 0.0  \n",
            "25%                 0.0  \n",
            "50%                 0.0  \n",
            "75%                 0.0  \n",
            "max                 0.0  \n",
            "std                 0.0  \n"
          ]
        }
      ]
    },
    {
      "cell_type": "markdown",
      "source": [
        "**Lookalike Model Implementation**"
      ],
      "metadata": {
        "id": "VJJcpWo37PIy"
      }
    },
    {
      "cell_type": "code",
      "source": [
        "class LookalikeModel:\n",
        "    def __init__(self):\n",
        "        self.scaler = StandardScaler()\n",
        "        self.feature_matrix = None\n",
        "        self.customer_ids = None\n",
        "        self.features = None\n",
        "\n",
        "    def fit(self, customer_features):\n",
        "        \"\"\"Fit the lookalike model\"\"\"\n",
        "\n",
        "        self.features = [\n",
        "            'transaction_count', 'total_quantity', 'avg_quantity',\n",
        "            'std_quantity', 'total_value', 'avg_value', 'std_value',\n",
        "            'recency', 'avg_time_between'\n",
        "        ]\n",
        "\n",
        "\n",
        "        self.feature_matrix = self.scaler.fit_transform(\n",
        "            customer_features[self.features]\n",
        "        )\n",
        "        self.customer_ids = customer_features['CustomerID'].values\n",
        "\n",
        "    def find_lookalikes(self, customer_id, n_recommendations=3):\n",
        "        \"\"\"Find lookalike customers\"\"\"\n",
        "        customer_idx = np.where(self.customer_ids == customer_id)[0][0]\n",
        "        similarities = cosine_similarity(\n",
        "            self.feature_matrix[customer_idx].reshape(1, -1),\n",
        "            self.feature_matrix\n",
        "        )[0]\n",
        "\n",
        "\n",
        "        similar_indices = np.argsort(similarities)[::-1][1:n_recommendations+1]\n",
        "\n",
        "        return [\n",
        "            {\n",
        "                'similar_customer': self.customer_ids[idx],\n",
        "                'similarity_score': similarities[idx]\n",
        "            }\n",
        "            for idx in similar_indices\n",
        "        ]\n",
        "\n",
        "model = LookalikeModel()\n",
        "model.fit(customer_features)"
      ],
      "metadata": {
        "id": "Z7Pm6mx_5jPb"
      },
      "execution_count": null,
      "outputs": []
    },
    {
      "cell_type": "markdown",
      "source": [
        "**Generate Recommendations**"
      ],
      "metadata": {
        "id": "e1SIHSYH7h2s"
      }
    },
    {
      "cell_type": "code",
      "source": [
        "\n",
        "recommendations = []\n",
        "first_20_customers = customers['CustomerID'][:20]\n",
        "\n",
        "for customer_id in first_20_customers:\n",
        "    lookalikes = model.find_lookalikes(customer_id)\n",
        "\n",
        "\n",
        "    similar_ids = [l['similar_customer'] for l in lookalikes]\n",
        "    similarity_scores = [l['similarity_score'] for l in lookalikes]\n",
        "\n",
        "    recommendations.append({\n",
        "        'customer_id': customer_id,\n",
        "        'similar_customer_ids': ','.join(similar_ids),\n",
        "        'similarity_scores': ','.join([f'{score:.4f}' for score in similarity_scores])\n",
        "    })\n",
        "\n",
        "\n",
        "recommendations_df = pd.DataFrame(recommendations)\n",
        "\n",
        "print(\"\\nLookalike Recommendations\")\n",
        "print(recommendations_df.head())"
      ],
      "metadata": {
        "colab": {
          "base_uri": "https://localhost:8080/"
        },
        "id": "sT4JNa5n5oao",
        "outputId": "c6fffe93-11ef-4564-c097-c4a14ede3717"
      },
      "execution_count": null,
      "outputs": [
        {
          "output_type": "stream",
          "name": "stdout",
          "text": [
            "\n",
            "Lookalike Recommendations\n",
            "  customer_id similar_customer_ids     similarity_scores\n",
            "0       C0001    C0043,C0125,C0193  0.7667,0.7189,0.6850\n",
            "1       C0002    C0031,C0121,C0094  0.9927,0.9311,0.9296\n",
            "2       C0003    C0144,C0176,C0018  0.9257,0.8814,0.7561\n",
            "3       C0004    C0109,C0017,C0075  0.9645,0.9629,0.9485\n",
            "4       C0005    C0130,C0150,C0131  0.9774,0.9762,0.9732\n"
          ]
        }
      ]
    },
    {
      "cell_type": "markdown",
      "source": [
        "**Save Results**"
      ],
      "metadata": {
        "id": "6vi80qUF7tAp"
      }
    },
    {
      "cell_type": "code",
      "source": [
        "\n",
        "recommendations_df.to_csv('Revanth_Pasupuleti_Lookalike.csv', index=False)\n",
        "print(\"Recommendations saved to Revanth_Pasupuleti_Lookalike.csv\")\n",
        "\n",
        "\n",
        "print(\"\\nSample of saved format:\")\n",
        "for _, row in recommendations_df.head().iterrows():\n",
        "    print(f\"\\nCustomer ID: {row['customer_id']}\")\n",
        "    similar_ids = row['similar_customer_ids'].split(',')\n",
        "    scores = row['similarity_scores'].split(',')\n",
        "    print(\"Similar Customers (ID, Score):\")\n",
        "    for id, score in zip(similar_ids, scores):\n",
        "        print(f\"  {id}: {score}\")"
      ],
      "metadata": {
        "colab": {
          "base_uri": "https://localhost:8080/"
        },
        "id": "jIGMU_3450xB",
        "outputId": "c436729e-6aae-4f47-f581-972b27d773ed"
      },
      "execution_count": null,
      "outputs": [
        {
          "output_type": "stream",
          "name": "stdout",
          "text": [
            "Recommendations saved to Revanth_Pasupuleti_Lookalike.csv\n",
            "\n",
            "Sample of saved format:\n",
            "\n",
            "Customer ID: C0001\n",
            "Similar Customers (ID, Score):\n",
            "  C0043: 0.7667\n",
            "  C0125: 0.7189\n",
            "  C0193: 0.6850\n",
            "\n",
            "Customer ID: C0002\n",
            "Similar Customers (ID, Score):\n",
            "  C0031: 0.9927\n",
            "  C0121: 0.9311\n",
            "  C0094: 0.9296\n",
            "\n",
            "Customer ID: C0003\n",
            "Similar Customers (ID, Score):\n",
            "  C0144: 0.9257\n",
            "  C0176: 0.8814\n",
            "  C0018: 0.7561\n",
            "\n",
            "Customer ID: C0004\n",
            "Similar Customers (ID, Score):\n",
            "  C0109: 0.9645\n",
            "  C0017: 0.9629\n",
            "  C0075: 0.9485\n",
            "\n",
            "Customer ID: C0005\n",
            "Similar Customers (ID, Score):\n",
            "  C0130: 0.9774\n",
            "  C0150: 0.9762\n",
            "  C0131: 0.9732\n"
          ]
        }
      ]
    }
  ]
}